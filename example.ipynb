{
 "cells": [
  {
   "cell_type": "code",
   "execution_count": 6,
   "id": "e55a4503",
   "metadata": {},
   "outputs": [],
   "source": [
    "import numpy as np\n",
    "\n",
    "from src.data.simulation import Simulation\n",
    "from src.data.utils import B1Calculator\n",
    "from src.data.utils import SARCalculator\n",
    "from src.data.simulation import CoilConfig"
   ]
  },
  {
   "cell_type": "code",
   "execution_count": 7,
   "id": "d37d865e",
   "metadata": {},
   "outputs": [],
   "source": [
    "sim = Simulation(\n",
    "    \"data/simulations/children_0_tubes_2_id_19969.h5\",\n",
    "    \"data/antenna/antenna.h5\"\n",
    ")"
   ]
  },
  {
   "cell_type": "code",
   "execution_count": 8,
   "id": "218522ee",
   "metadata": {},
   "outputs": [
    {
     "data": {
      "text/plain": [
       "<src.data.simulation.Simulation at 0x7bd1e1d746e0>"
      ]
     },
     "execution_count": 8,
     "metadata": {},
     "output_type": "execute_result"
    }
   ],
   "source": [
    "sim"
   ]
  },
  {
   "cell_type": "code",
   "execution_count": 9,
   "id": "6e50cc94",
   "metadata": {},
   "outputs": [
    {
     "data": {
      "text/plain": [
       "(121, 111, 126)"
      ]
     },
     "execution_count": 9,
     "metadata": {},
     "output_type": "execute_result"
    }
   ],
   "source": [
    "B1Calculator().calculate_b1_field(sim.phase_shift(\n",
    "    coil_config=CoilConfig(np.random.rand(8), np.random.rand(8)),\n",
    ")).shape"
   ]
  },
  {
   "cell_type": "code",
   "execution_count": 10,
   "id": "86b04841",
   "metadata": {},
   "outputs": [
    {
     "data": {
      "text/plain": [
       "(121, 111, 126)"
      ]
     },
     "execution_count": 10,
     "metadata": {},
     "output_type": "execute_result"
    }
   ],
   "source": [
    "SARCalculator().calculate_sar(sim.phase_shift(\n",
    "    coil_config=CoilConfig(np.random.rand(8), np.random.rand(8)),\n",
    ")).shape"
   ]
  },
  {
   "cell_type": "code",
   "execution_count": null,
   "id": "0852f567",
   "metadata": {},
   "outputs": [],
   "source": []
  },
  {
   "cell_type": "code",
   "execution_count": null,
   "id": "24c2100f",
   "metadata": {},
   "outputs": [],
   "source": []
  }
 ],
 "metadata": {
  "kernelspec": {
   "display_name": "Python 3",
   "language": "python",
   "name": "python3"
  },
  "language_info": {
   "codemirror_mode": {
    "name": "ipython",
    "version": 3
   },
   "file_extension": ".py",
   "mimetype": "text/x-python",
   "name": "python",
   "nbconvert_exporter": "python",
   "pygments_lexer": "ipython3",
   "version": "3.12.9"
  }
 },
 "nbformat": 4,
 "nbformat_minor": 5
}
