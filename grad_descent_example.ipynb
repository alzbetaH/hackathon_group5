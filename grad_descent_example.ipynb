{
 "cells": [
  {
   "cell_type": "code",
   "execution_count": 1,
   "id": "e55a4503",
   "metadata": {},
   "outputs": [],
   "source": [
    "import torch\n",
    "import torch.nn as nn\n",
    "import numpy as np\n",
    "from tqdm.notebook import tqdm\n",
    "from einops import rearrange, repeat, einsum\n",
    "from skimage.measure import label, regionprops\n",
    "\n",
    "from src.data.simulation import Simulation"
   ]
  },
  {
   "cell_type": "code",
   "execution_count": 2,
   "id": "89bc3612",
   "metadata": {},
   "outputs": [],
   "source": [
    "device = torch.device('cuda' if torch.cuda.is_available() else 'cpu')"
   ]
  },
  {
   "cell_type": "code",
   "execution_count": 3,
   "id": "d37d865e",
   "metadata": {},
   "outputs": [],
   "source": [
    "sim = Simulation(\n",
    "    \"data/simulations/children_0_tubes_0_id_11815.h5\",\n",
    "    \"data/antenna/antenna.h5\"\n",
    ")"
   ]
  },
  {
   "cell_type": "code",
   "execution_count": 4,
   "id": "df801897",
   "metadata": {},
   "outputs": [],
   "source": [
    "labeled_mask = label(sim.simulation_raw_data.subject)\n",
    "regions = regionprops(labeled_mask)\n",
    "coords=regions[0].bbox\n",
    "field_np = sim.simulation_raw_data.field[:, :, :, int(coords[0]):int(coords[3]), int(coords[1]):int(coords[4]), int(coords[2]):int(coords[5]), :]\n",
    "prop_np = sim.simulation_raw_data.properties[:, int(coords[0]):int(coords[3]), int(coords[1]):int(coords[4]), int(coords[2]):int(coords[5])]"
   ]
  },
  {
   "cell_type": "code",
   "execution_count": 5,
   "id": "f8a74a04",
   "metadata": {},
   "outputs": [],
   "source": [
    "field = torch.tensor(field_np, dtype=torch.float32).to(device)\n",
    "prop = torch.tensor(prop_np, dtype=torch.float32).to(device)"
   ]
  },
  {
   "cell_type": "markdown",
   "id": "9fad564c",
   "metadata": {},
   "source": [
    "Torch"
   ]
  },
  {
   "cell_type": "code",
   "execution_count": 6,
   "id": "4e152e3a",
   "metadata": {},
   "outputs": [],
   "source": [
    "class PhaseShift(nn.Module):\n",
    "    def __init__(self):\n",
    "        super().__init__()\n",
    "        self.phase = nn.Parameter(torch.randn(8, dtype=torch.float32))\n",
    "        self.amplitude = nn.Parameter(torch.randn(8, dtype=torch.float32))\n",
    "\n",
    "    def forward(self, field):\n",
    "        re_phase = torch.cos(self.phase) * self.amplitude\n",
    "        im_phase = torch.sin(self.phase) * self.amplitude\n",
    "        coeffs_real = torch.stack((re_phase, -im_phase), dim=0)\n",
    "        coeffs_im = torch.stack((im_phase, re_phase), dim=0)\n",
    "        coeffs = torch.stack((coeffs_real, coeffs_im), dim=0)\n",
    "        coeffs = repeat(coeffs, 'reimout reim coils -> hf reimout reim coils', hf=2)\n",
    "        field_shift = einsum(field, coeffs, 'hf reim fieldxyz ... coils, hf reimout reim coils -> hf reimout fieldxyz ...')\n",
    "        return field_shift"
   ]
  },
  {
   "cell_type": "code",
   "execution_count": 7,
   "id": "ebf026d2",
   "metadata": {},
   "outputs": [],
   "source": [
    "def b1_calc(field):\n",
    "    b_field = field[1]\n",
    "    b_field_complex = b_field[0] + 1j * b_field[1]\n",
    "    return 0.5*(b_field_complex[0] + 1j*b_field_complex[1])"
   ]
  },
  {
   "cell_type": "code",
   "execution_count": 8,
   "id": "1b20522d",
   "metadata": {},
   "outputs": [],
   "source": [
    "def b1_homogeneity_cost(field):\n",
    "    b1_plus = b1_calc(field)\n",
    "    b1_plus_magnitude = torch.abs(b1_plus)\n",
    "    b1_plus_mean = torch.mean(b1_plus_magnitude)\n",
    "    b1_plus_std = torch.std(b1_plus_magnitude)\n",
    "    return b1_plus_mean / (b1_plus_std + 1e-6)"
   ]
  },
  {
   "cell_type": "code",
   "execution_count": 9,
   "id": "34104d86",
   "metadata": {},
   "outputs": [],
   "source": [
    "def sars_calc(field, properties):\n",
    "    e_field = field[0]\n",
    "    abs_efield_sq = torch.sum(e_field**2, axis=(0,1))\n",
    "\n",
    "    # get the conductivity and density tensors\n",
    "    conductivity = properties[0]\n",
    "    density = properties[2]\n",
    "\n",
    "    return conductivity * abs_efield_sq / density"
   ]
  },
  {
   "cell_type": "code",
   "execution_count": 10,
   "id": "65c5d366",
   "metadata": {},
   "outputs": [],
   "source": [
    "def sar_cost(field, properties):\n",
    "    return torch.max(sars_calc(field, properties))"
   ]
  },
  {
   "cell_type": "code",
   "execution_count": 11,
   "id": "22f2f4af",
   "metadata": {},
   "outputs": [],
   "source": [
    "def loss_1(field):\n",
    "    return -1 * b1_homogeneity_cost(field)"
   ]
  },
  {
   "cell_type": "code",
   "execution_count": 12,
   "id": "1ba50d2d",
   "metadata": {},
   "outputs": [],
   "source": [
    "def loss_2(field, prop, lambda_param=0.1):\n",
    "    return -1 * b1_homogeneity_cost(field) + lambda_param * sar_cost(field, prop)"
   ]
  },
  {
   "cell_type": "code",
   "execution_count": 13,
   "id": "30a9897a",
   "metadata": {},
   "outputs": [
    {
     "name": "stdout",
     "output_type": "stream",
     "text": [
      "Parameter containing:\n",
      "tensor([ 0.8866, -0.2040, -0.2662, -0.3972, -0.3892, -0.7052,  0.0299, -0.1903],\n",
      "       device='cuda:0', requires_grad=True)\n",
      "Parameter containing:\n",
      "tensor([-1.8614, -1.3950,  0.5299, -0.4911, -0.0032, -0.3384,  1.3015,  0.7771],\n",
      "       device='cuda:0', requires_grad=True)\n"
     ]
    }
   ],
   "source": [
    "model = PhaseShift().to(device)\n",
    "print(model.amplitude)\n",
    "print(model.phase)"
   ]
  },
  {
   "cell_type": "code",
   "execution_count": 14,
   "id": "24c2100f",
   "metadata": {},
   "outputs": [],
   "source": [
    "optmizer = torch.optim.Adam(model.parameters(), lr=0.01)"
   ]
  },
  {
   "cell_type": "code",
   "execution_count": 15,
   "id": "6739548a",
   "metadata": {},
   "outputs": [
    {
     "data": {
      "application/vnd.jupyter.widget-view+json": {
       "model_id": "326ace15986b401dba566c1f5d1e2dfc",
       "version_major": 2,
       "version_minor": 0
      },
      "text/plain": [
       "  0%|          | 0/1000 [00:00<?, ?it/s]"
      ]
     },
     "metadata": {},
     "output_type": "display_data"
    },
    {
     "name": "stdout",
     "output_type": "stream",
     "text": [
      "Iteration 0: Loss = -0.5671815872192383\n",
      "Iteration 100: Loss = -2.750995397567749\n",
      "Iteration 200: Loss = -2.8596324920654297\n",
      "Iteration 300: Loss = -2.908470392227173\n",
      "Iteration 400: Loss = -2.928636312484741\n",
      "Iteration 500: Loss = -2.935072422027588\n",
      "Iteration 600: Loss = -2.9365181922912598\n",
      "Iteration 700: Loss = -2.9352550506591797\n",
      "Iteration 800: Loss = -2.937091112136841\n",
      "Iteration 900: Loss = -2.9370503425598145\n"
     ]
    }
   ],
   "source": [
    "iterations = 1000\n",
    "for i in tqdm(range(iterations)):\n",
    "    optmizer.zero_grad()\n",
    "    shifted_field = model(field)\n",
    "    loss = loss_2(shifted_field, prop)\n",
    "    loss.backward()\n",
    "    optmizer.step()\n",
    "\n",
    "    if i % 100 == 0:\n",
    "        print(f\"Iteration {i}: Loss = {loss.item()}\")"
   ]
  },
  {
   "cell_type": "code",
   "execution_count": null,
   "id": "030433bd",
   "metadata": {},
   "outputs": [],
   "source": []
  }
 ],
 "metadata": {
  "kernelspec": {
   "display_name": "Python 3",
   "language": "python",
   "name": "python3"
  },
  "language_info": {
   "codemirror_mode": {
    "name": "ipython",
    "version": 3
   },
   "file_extension": ".py",
   "mimetype": "text/x-python",
   "name": "python",
   "nbconvert_exporter": "python",
   "pygments_lexer": "ipython3",
   "version": "3.12.9"
  }
 },
 "nbformat": 4,
 "nbformat_minor": 5
}
