{
 "cells": [
  {
   "cell_type": "code",
   "execution_count": null,
   "id": "e55a4503",
   "metadata": {},
   "outputs": [],
   "source": [
    "import torch\n",
    "import torch.nn as nn\n",
    "import numpy as np\n",
    "\n",
    "from src.data.simulation import Simulation\n",
    "\n",
    "from src.costs.torch_cost_functions import (\n",
    "    TorchB1HomogeneityCost,\n",
    "    TorchB1HomogeneityCostSAR,\n",
    ")\n",
    "from src.costs.b1_homogenity_with_SAR import B1HomogeneityCostSAR\n",
    "from src.optimizers.torch_optimizer import TorchOptimizer\n",
    "from src.optimizers.optim_2 import HillClimbingOptimizer"
   ]
  },
  {
   "cell_type": "code",
   "execution_count": null,
   "id": "d37d865e",
   "metadata": {},
   "outputs": [],
   "source": [
    "sim = Simulation(\n",
    "    \"src/data/simulations/children_0_tubes_5_id_12346.h5\", \"src/data/antenna/antenna.h5\"\n",
    ")"
   ]
  },
  {
   "cell_type": "markdown",
   "id": "9fad564c",
   "metadata": {},
   "source": [
    "Torch"
   ]
  },
  {
   "cell_type": "code",
   "execution_count": null,
   "id": "69ef576f",
   "metadata": {},
   "outputs": [],
   "source": [
    "# loss_1 = TorchB1HomogeneityCost()\n",
    "loss_2 = TorchB1HomogeneityCostSAR()"
   ]
  },
  {
   "cell_type": "code",
   "execution_count": null,
   "id": "b8e2ee7c",
   "metadata": {},
   "outputs": [],
   "source": [
    "optimizer = TorchOptimizer(cost_function=loss_2)\n",
    "coil_config = optimizer.optimize(simulation=sim)\n",
    "print(coil_config)"
   ]
  },
  {
   "cell_type": "code",
   "execution_count": null,
   "id": "6bf69584",
   "metadata": {},
   "outputs": [],
   "source": [
    "loss_hill = B1HomogeneityCostSAR()\n",
    "hill_optimizer = HillClimbingOptimizer(cost_function=loss_hill)\n",
    "hill_optimizer.optimize(simulation=sim)"
   ]
  },
  {
   "cell_type": "code",
   "execution_count": null,
   "id": "01e024e2",
   "metadata": {},
   "outputs": [],
   "source": []
  }
 ],
 "metadata": {
  "kernelspec": {
   "display_name": ".venv",
   "language": "python",
   "name": "python3"
  },
  "language_info": {
   "codemirror_mode": {
    "name": "ipython",
    "version": 3
   },
   "file_extension": ".py",
   "mimetype": "text/x-python",
   "name": "python",
   "nbconvert_exporter": "python",
   "pygments_lexer": "ipython3",
   "version": "3.12.3"
  }
 },
 "nbformat": 4,
 "nbformat_minor": 5
}
