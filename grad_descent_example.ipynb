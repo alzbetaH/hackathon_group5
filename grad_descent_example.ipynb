{
 "cells": [
  {
   "cell_type": "code",
   "execution_count": 1,
   "id": "e55a4503",
   "metadata": {},
   "outputs": [],
   "source": [
    "import torch\n",
    "import torch.nn as nn\n",
    "import numpy as np\n",
    "\n",
    "from src.data.simulation import Simulation\n",
    "\n",
    "from src.costs.torch_cost_functions import (\n",
    "    TorchB1HomogeneityCost,\n",
    "    TorchB1HomogeneityCostSAR,\n",
    ")\n",
    "from src.costs.b1_homogenity_with_SAR import B1HomogeneityCostSAR\n",
    "from src.optimizers.torch_optimizer import TorchOptimizer\n",
    "from src.optimizers.optim_2 import HillClimbingOptimizer"
   ]
  },
  {
   "cell_type": "code",
   "execution_count": 2,
   "id": "d37d865e",
   "metadata": {},
   "outputs": [],
   "source": [
    "sim = Simulation(\n",
    "    \"src/data/simulations/children_0_tubes_5_id_12346.h5\", \"src/data/antenna/antenna.h5\"\n",
    ")"
   ]
  },
  {
   "cell_type": "markdown",
   "id": "9fad564c",
   "metadata": {},
   "source": [
    "Torch"
   ]
  },
  {
   "cell_type": "code",
   "execution_count": 3,
   "id": "69ef576f",
   "metadata": {},
   "outputs": [],
   "source": [
    "# loss_1 = TorchB1HomogeneityCost()\n",
    "loss_2 = TorchB1HomogeneityCostSAR()"
   ]
  },
  {
   "cell_type": "code",
   "execution_count": 4,
   "id": "b8e2ee7c",
   "metadata": {},
   "outputs": [
    {
     "name": "stderr",
     "output_type": "stream",
     "text": [
      "  0%|          | 3/1000 [00:00<01:40,  9.91it/s]"
     ]
    },
    {
     "name": "stdout",
     "output_type": "stream",
     "text": [
      "Iteration 0: Loss = -0.7687695026397705\n"
     ]
    },
    {
     "name": "stderr",
     "output_type": "stream",
     "text": [
      " 10%|█         | 102/1000 [00:09<01:21, 11.06it/s]"
     ]
    },
    {
     "name": "stdout",
     "output_type": "stream",
     "text": [
      "Iteration 100: Loss = -1.7376679182052612\n"
     ]
    },
    {
     "name": "stderr",
     "output_type": "stream",
     "text": [
      " 20%|██        | 202/1000 [00:18<01:11, 11.21it/s]"
     ]
    },
    {
     "name": "stdout",
     "output_type": "stream",
     "text": [
      "Iteration 200: Loss = -1.7430088520050049\n"
     ]
    },
    {
     "name": "stderr",
     "output_type": "stream",
     "text": [
      " 30%|███       | 302/1000 [00:27<01:02, 11.24it/s]"
     ]
    },
    {
     "name": "stdout",
     "output_type": "stream",
     "text": [
      "Iteration 300: Loss = -1.7479004859924316\n"
     ]
    },
    {
     "name": "stderr",
     "output_type": "stream",
     "text": [
      " 40%|████      | 402/1000 [00:36<00:54, 11.04it/s]"
     ]
    },
    {
     "name": "stdout",
     "output_type": "stream",
     "text": [
      "Iteration 400: Loss = -1.7488489151000977\n"
     ]
    },
    {
     "name": "stderr",
     "output_type": "stream",
     "text": [
      " 50%|█████     | 502/1000 [00:45<00:45, 11.05it/s]"
     ]
    },
    {
     "name": "stdout",
     "output_type": "stream",
     "text": [
      "Iteration 500: Loss = -1.7478348016738892\n"
     ]
    },
    {
     "name": "stderr",
     "output_type": "stream",
     "text": [
      " 60%|██████    | 602/1000 [00:54<00:35, 11.14it/s]"
     ]
    },
    {
     "name": "stdout",
     "output_type": "stream",
     "text": [
      "Iteration 600: Loss = -1.7454631328582764\n"
     ]
    },
    {
     "name": "stderr",
     "output_type": "stream",
     "text": [
      " 70%|███████   | 702/1000 [01:04<00:27, 11.02it/s]"
     ]
    },
    {
     "name": "stdout",
     "output_type": "stream",
     "text": [
      "Iteration 700: Loss = -1.7432352304458618\n"
     ]
    },
    {
     "name": "stderr",
     "output_type": "stream",
     "text": [
      " 80%|████████  | 802/1000 [01:13<00:18, 10.95it/s]"
     ]
    },
    {
     "name": "stdout",
     "output_type": "stream",
     "text": [
      "Iteration 800: Loss = -1.7505388259887695\n"
     ]
    },
    {
     "name": "stderr",
     "output_type": "stream",
     "text": [
      " 90%|█████████ | 902/1000 [01:22<00:09, 10.86it/s]"
     ]
    },
    {
     "name": "stdout",
     "output_type": "stream",
     "text": [
      "Iteration 900: Loss = -1.749538540840149\n"
     ]
    },
    {
     "name": "stderr",
     "output_type": "stream",
     "text": [
      "100%|██████████| 1000/1000 [01:31<00:00, 10.93it/s]"
     ]
    },
    {
     "name": "stdout",
     "output_type": "stream",
     "text": [
      "CoilConfig(phase=array([-0.28317672, -1.5708698 , -0.0804247 ,  0.80682796,  1.2900586 ,\n",
      "       -1.2419237 , -1.0786561 , -0.657999  ], dtype=float32), amplitude=array([ 0.2662608 , -0.04654339, -0.137831  , -0.35575658, -0.44317976,\n",
      "        0.48881164,  0.5395383 ,  0.354603  ], dtype=float32))\n"
     ]
    },
    {
     "name": "stderr",
     "output_type": "stream",
     "text": [
      "\n"
     ]
    }
   ],
   "source": [
    "optimizer = TorchOptimizer(cost_function=loss_2)\n",
    "coil_config = optimizer.optimize(simulation=sim)\n",
    "print(coil_config)"
   ]
  },
  {
   "cell_type": "code",
   "execution_count": null,
   "id": "6bf69584",
   "metadata": {},
   "outputs": [],
   "source": [
    "loss_hill = B1HomogeneityCostSAR()\n",
    "hill_optimizer = HillClimbingOptimizer(cost_function=loss_hill)\n",
    "hill_optimizer.optimize(simulation=sim)"
   ]
  }
 ],
 "metadata": {
  "kernelspec": {
   "display_name": ".venv",
   "language": "python",
   "name": "python3"
  },
  "language_info": {
   "codemirror_mode": {
    "name": "ipython",
    "version": 3
   },
   "file_extension": ".py",
   "mimetype": "text/x-python",
   "name": "python",
   "nbconvert_exporter": "python",
   "pygments_lexer": "ipython3",
   "version": "3.12.3"
  }
 },
 "nbformat": 4,
 "nbformat_minor": 5
}
