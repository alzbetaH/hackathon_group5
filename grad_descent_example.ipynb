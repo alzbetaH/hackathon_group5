{
 "cells": [
  {
   "cell_type": "code",
   "execution_count": null,
   "id": "e55a4503",
   "metadata": {},
   "outputs": [],
   "source": [
    "import torch\n",
    "import torch.nn as nn\n",
    "import numpy as np\n",
    "from tqdm.notebook import tqdm\n",
    "from einops import rearrange, repeat, einsum\n",
    "\n",
    "from src.data.simulation import Simulation"
   ]
  },
  {
   "cell_type": "code",
   "execution_count": 7,
   "id": "89bc3612",
   "metadata": {},
   "outputs": [],
   "source": [
    "device = torch.device('cuda' if torch.cuda.is_available() else 'cpu')"
   ]
  },
  {
   "cell_type": "code",
   "execution_count": 8,
   "id": "d37d865e",
   "metadata": {},
   "outputs": [],
   "source": [
    "sim = Simulation(\n",
    "    \"data/simulations/children_0_tubes_0_id_11815.h5\",\n",
    "    \"data/antenna/antenna.h5\"\n",
    ")"
   ]
  },
  {
   "cell_type": "code",
   "execution_count": 9,
   "id": "741f0fcf",
   "metadata": {},
   "outputs": [
    {
     "data": {
      "text/plain": [
       "65532"
      ]
     },
     "execution_count": 9,
     "metadata": {},
     "output_type": "execute_result"
    }
   ],
   "source": [
    "sim.simulation_raw_data.subject.sum()"
   ]
  },
  {
   "cell_type": "code",
   "execution_count": 10,
   "id": "f8a74a04",
   "metadata": {},
   "outputs": [],
   "source": [
    "field = torch.tensor(sim.simulation_raw_data.field, dtype=torch.float32).to(device)\n",
    "prop = torch.tensor(sim.simulation_raw_data.properties, dtype=torch.float32).to(device)\n",
    "mask = torch.tensor(sim.simulation_raw_data.subject, dtype=torch.bool).to(device)"
   ]
  },
  {
   "cell_type": "markdown",
   "id": "9fad564c",
   "metadata": {},
   "source": [
    "Torch"
   ]
  },
  {
   "cell_type": "code",
   "execution_count": 6,
   "id": "4e152e3a",
   "metadata": {},
   "outputs": [],
   "source": [
    "class PhaseShift(nn.Module):\n",
    "    def __init__(self):\n",
    "        super().__init__()\n",
    "        self.phase = nn.Parameter(torch.randn(8, dtype=torch.float32))\n",
    "        self.amplitude = nn.Parameter(torch.randn(8, dtype=torch.float32))\n",
    "\n",
    "    def forward(self, field):\n",
    "        re_phase = torch.cos(self.phase) * self.amplitude\n",
    "        im_phase = torch.sin(self.phase) * self.amplitude\n",
    "        coeffs_real = torch.stack((re_phase, -im_phase), dim=0)\n",
    "        coeffs_im = torch.stack((im_phase, re_phase), dim=0)\n",
    "        coeffs = torch.stack((coeffs_real, coeffs_im), dim=0)\n",
    "        coeffs = repeat(coeffs, 'reimout reim coils -> hf reimout reim coils', hf=2)\n",
    "        field_shift = einsum(field, coeffs, 'hf reim fieldxyz ... coils, hf reimout reim coils -> hf reimout fieldxyz ...')\n",
    "        return field_shift"
   ]
  },
  {
   "cell_type": "code",
   "execution_count": 7,
   "id": "ebf026d2",
   "metadata": {},
   "outputs": [],
   "source": [
    "def b1_calc(field):\n",
    "    b_field = field[1]\n",
    "    b_field_complex = b_field[0] + 1j * b_field[1]\n",
    "    return 0.5*(b_field_complex[0] + 1j*b_field_complex[1])"
   ]
  },
  {
   "cell_type": "code",
   "execution_count": 8,
   "id": "1b20522d",
   "metadata": {},
   "outputs": [],
   "source": [
    "def b1_homogeneity_cost(field, mask):\n",
    "    b1_plus = b1_calc(field)[mask]\n",
    "    b1_plus_magnitude = torch.abs(b1_plus)\n",
    "    b1_plus_mean = torch.mean(b1_plus_magnitude)\n",
    "    b1_plus_std = torch.std(b1_plus_magnitude)\n",
    "    return b1_plus_mean / (b1_plus_std + 1e-6)"
   ]
  },
  {
   "cell_type": "code",
   "execution_count": 9,
   "id": "34104d86",
   "metadata": {},
   "outputs": [],
   "source": [
    "def sars_calc(field, properties, mask):\n",
    "    e_field = field[0]\n",
    "    abs_efield_sq = torch.sum(e_field**2, axis=(0,1))[mask]\n",
    "\n",
    "    # get the conductivity and density tensors\n",
    "    conductivity = properties[0][mask]\n",
    "    density = properties[2][mask]\n",
    "\n",
    "    return conductivity * abs_efield_sq / density"
   ]
  },
  {
   "cell_type": "code",
   "execution_count": 10,
   "id": "65c5d366",
   "metadata": {},
   "outputs": [],
   "source": [
    "def sar_cost(field, properties, mask):\n",
    "    return torch.max(sars_calc(field, properties, mask))"
   ]
  },
  {
   "cell_type": "code",
   "execution_count": 11,
   "id": "22f2f4af",
   "metadata": {},
   "outputs": [],
   "source": [
    "def loss_1(field, mask):\n",
    "    return -1 * b1_homogeneity_cost(field, mask)"
   ]
  },
  {
   "cell_type": "code",
   "execution_count": 12,
   "id": "1ba50d2d",
   "metadata": {},
   "outputs": [],
   "source": [
    "def loss_2(field, prop, mask, lambda_param=0.1):\n",
    "    return -1 * b1_homogeneity_cost(field, mask) + lambda_param * sar_cost(field, prop, mask)"
   ]
  },
  {
   "cell_type": "code",
   "execution_count": 13,
   "id": "30a9897a",
   "metadata": {},
   "outputs": [
    {
     "name": "stdout",
     "output_type": "stream",
     "text": [
      "Parameter containing:\n",
      "tensor([ 0.8403,  0.5319,  1.1106, -1.0601,  2.3744,  1.4144,  1.2957,  0.1888],\n",
      "       device='cuda:0', requires_grad=True)\n",
      "Parameter containing:\n",
      "tensor([ 0.1447,  0.6035,  1.9024,  1.3242,  0.2704, -0.1394,  0.1005,  0.6391],\n",
      "       device='cuda:0', requires_grad=True)\n"
     ]
    }
   ],
   "source": [
    "model = PhaseShift().to(device)\n",
    "print(model.amplitude)\n",
    "print(model.phase)"
   ]
  },
  {
   "cell_type": "code",
   "execution_count": 13,
   "id": "24c2100f",
   "metadata": {},
   "outputs": [],
   "source": [
    "optmizer = torch.optim.Adam(model.parameters(), lr=0.01)"
   ]
  },
  {
   "cell_type": "code",
   "execution_count": null,
   "id": "6739548a",
   "metadata": {},
   "outputs": [],
   "source": [
    "iterations = 1000\n",
    "for i in tqdm(range(iterations)):\n",
    "    optmizer.zero_grad()\n",
    "    shifted_field = model(field)\n",
    "    loss = loss_2(shifted_field, prop, mask)\n",
    "    loss.backward()\n",
    "    optmizer.step()\n",
    "\n",
    "    if i % 100 == 0:\n",
    "        print(f\"Iteration {i}: Loss = {loss.item()}\")"
   ]
  },
  {
   "cell_type": "code",
   "execution_count": null,
   "id": "030433bd",
   "metadata": {},
   "outputs": [],
   "source": []
  }
 ],
 "metadata": {
  "kernelspec": {
   "display_name": "Python 3",
   "language": "python",
   "name": "python3"
  },
  "language_info": {
   "codemirror_mode": {
    "name": "ipython",
    "version": 3
   },
   "file_extension": ".py",
   "mimetype": "text/x-python",
   "name": "python",
   "nbconvert_exporter": "python",
   "pygments_lexer": "ipython3",
   "version": "3.12.9"
  }
 },
 "nbformat": 4,
 "nbformat_minor": 5
}
